{
 "cells": [
  {
   "cell_type": "code",
   "execution_count": 1,
   "metadata": {},
   "outputs": [],
   "source": [
    "# WELCOME! In this final project, I will examine the relationship of class by income as \n",
    "# related to socioeconomic variables regarding \n",
    "# the environment (using the Measure of America Data Set which is grouped by U.S. States)."
   ]
  },
  {
   "cell_type": "code",
   "execution_count": 2,
   "metadata": {},
   "outputs": [],
   "source": [
    "# NUMBER ONE: For my first hypothesis test I will examine the relationship between GDP and Carcinogen\n",
    "# output across U.S. States. "
   ]
  },
  {
   "cell_type": "code",
   "execution_count": 3,
   "metadata": {},
   "outputs": [],
   "source": [
    "import pandas as pd\n",
    "import numpy as np\n",
    "import matplotlib.pyplot as plt"
   ]
  },
  {
   "cell_type": "code",
   "execution_count": 4,
   "metadata": {},
   "outputs": [],
   "source": [
    "df = pd.read_csv('/Users/caitlin/Desktop/Measure of America Dataset.csv')"
   ]
  },
  {
   "cell_type": "code",
   "execution_count": 5,
   "metadata": {},
   "outputs": [
    {
     "data": {
      "text/plain": [
       "40970.0"
      ]
     },
     "execution_count": 5,
     "metadata": {},
     "output_type": "execute_result"
    }
   ],
   "source": [
    "median_GDP = np.median(df['State Per Capita GDP ($)'].dropna())\n",
    "median_GDP"
   ]
  },
  {
   "cell_type": "code",
   "execution_count": 6,
   "metadata": {},
   "outputs": [],
   "source": [
    "# Grouping states by high and low GDP:\n",
    "lowGDP_df = df[df['State Per Capita GDP ($)'] <= median_GDP]\n",
    "highGDP_df = df[df['State Per Capita GDP ($)'] > median_GDP]"
   ]
  },
  {
   "cell_type": "code",
   "execution_count": 7,
   "metadata": {},
   "outputs": [
    {
     "data": {
      "image/png": "[encoded data removed]",
      "text/plain": [
       "<Figure size 864x576 with 1 Axes>"
      ]
     },
     "metadata": {},
     "output_type": "display_data"
    }
   ],
   "source": [
    "# Visualization: \n",
    "fig, axs = plt.subplots(figsize=(12,8))\n",
    "axs.boxplot([lowGDP_df['Carcinogen Releases (pounds)'].dropna(), highGDP_df['Carcinogen Releases (pounds)'].dropna()])\n",
    "plt.title('Carcinogen Distribution of Low GDP vs High GDP States', fontsize=21)\n",
    "axs.set_xticklabels(['Low GDP','High GDP'])\n",
    "axs.set_ylabel('Carcinogen Releases [pounds]', fontsize=18)\n",
    "axs.tick_params(labelsize=15)\n",
    "plt.show()"
   ]
  },
  {
   "cell_type": "code",
   "execution_count": 8,
   "metadata": {},
   "outputs": [
    {
     "name": "stdout",
     "output_type": "stream",
     "text": [
      "Low GDP States Carcinogen Level: 17442512.653846152\n",
      "High GDP States Carcinogen Level: 12822930.56\n"
     ]
    }
   ],
   "source": [
    "# Calculating average Carcinogen Level between two groups (High GDP and Low GDP States):\n",
    "print(\"Low GDP States Carcinogen Level:\", np.mean(lowGDP_df['Carcinogen Releases (pounds)'].dropna()))\n",
    "print(\"High GDP States Carcinogen Level:\", np.mean(highGDP_df['Carcinogen Releases (pounds)'].dropna()))"
   ]
  },
  {
   "cell_type": "code",
   "execution_count": 9,
   "metadata": {},
   "outputs": [],
   "source": [
    "# Computing 95% CI of mean by using this function:\n",
    "def CI_mean(data):\n",
    "    se = np.std(data)/np.sqrt(len(data))\n",
    "    low = np.mean(data)-1.96*se\n",
    "    up = np.mean(data)+1.96*se\n",
    "    print(\"Average is:\", np.mean(data))\n",
    "    print(\"95% CI of mean is: ({}, {})\".format(low,up))"
   ]
  },
  {
   "cell_type": "code",
   "execution_count": 10,
   "metadata": {},
   "outputs": [
    {
     "name": "stdout",
     "output_type": "stream",
     "text": [
      "Average is: 17442512.653846152\n",
      "95% CI of mean is: (5917498.138772149, 28967527.168920156)\n"
     ]
    }
   ],
   "source": [
    "# 95% CI of mean carcinogen level for Low GDP states:\n",
    "CI_mean(lowGDP_df['Carcinogen Releases (pounds)'])"
   ]
  },
  {
   "cell_type": "code",
   "execution_count": 11,
   "metadata": {},
   "outputs": [
    {
     "name": "stdout",
     "output_type": "stream",
     "text": [
      "Average is: 12822930.56\n",
      "95% CI of mean is: (-2892394.6398111377, 28538255.75981114)\n"
     ]
    }
   ],
   "source": [
    "# 95% CI of mean carcinogen level for High GDP states:\n",
    "CI_mean(highGDP_df['Carcinogen Releases (pounds)'])"
   ]
  },
  {
   "cell_type": "code",
   "execution_count": 12,
   "metadata": {},
   "outputs": [],
   "source": [
    "# Function to compute 95% CI of mean difference:\n",
    "def CI_mean_diff(list1, list2):\n",
    "    s1 = np.var(list1)\n",
    "    s2 = np.var(list2)\n",
    "    n1 = len(list1)\n",
    "    n2 = len(list2)\n",
    "    se2 = s1/n1 + s2/n2\n",
    "    se = np.sqrt(se2)\n",
    "\n",
    "    diff = np.mean(list1) - np.mean(list2)\n",
    "    low = diff - 1.96 * se\n",
    "    up = diff + 1.96 * se\n",
    "    print(\"The average difference is:\", diff)\n",
    "    print(\"The 95% CI is: ({}, {})\".format(low, up))"
   ]
  },
  {
   "cell_type": "code",
   "execution_count": 13,
   "metadata": {},
   "outputs": [
    {
     "name": "stdout",
     "output_type": "stream",
     "text": [
      "The average difference is: 4619582.093846152\n",
      "The 95% CI is: (-14868809.469042907, 24107973.65673521)\n"
     ]
    }
   ],
   "source": [
    "# Reporting average difference and 95% CI:\n",
    "CI_mean_diff(lowGDP_df['Carcinogen Releases (pounds)'], highGDP_df['Carcinogen Releases (pounds)'])"
   ]
  },
  {
   "cell_type": "code",
   "execution_count": 14,
   "metadata": {},
   "outputs": [
    {
     "name": "stdout",
     "output_type": "stream",
     "text": [
      "Test statistic: 0.4553443187736934\n",
      "p-value: 0.6510803770292449\n"
     ]
    }
   ],
   "source": [
    "# Conducting a two sample t-test:\n",
    "from scipy import stats\n",
    "\n",
    "t_val, p_val = stats.ttest_ind(lowGDP_df['Carcinogen Releases (pounds)'].dropna(), highGDP_df['Carcinogen Releases (pounds)'].dropna(), equal_var=False)\n",
    "\n",
    "print(\"Test statistic:\", t_val)\n",
    "print(\"p-value:\", p_val)"
   ]
  },
  {
   "cell_type": "code",
   "execution_count": 15,
   "metadata": {},
   "outputs": [],
   "source": [
    "# CONCLUSION: The average difference was \n",
    "# 4,619,582.09 lbs (95% CI = [(-14,868,809.47, 24,107,973.66)]).\n",
    "# With this large difference I would’ve expected to reject the null hypothesis. \n",
    "# However, the high variance may be due in part to the outliers and is probably the reason \n",
    "# the null hypothesis could not be rejected. "
   ]
  },
  {
   "cell_type": "code",
   "execution_count": null,
   "metadata": {},
   "outputs": [],
   "source": [
    "\n",
    "\n"
   ]
  },
  {
   "cell_type": "code",
   "execution_count": 16,
   "metadata": {},
   "outputs": [],
   "source": [
    "# NUMBER TWO: Now I will plot median income vs water consumption and examine their \n",
    "# relationship in a scatter plot. "
   ]
  },
  {
   "cell_type": "code",
   "execution_count": 17,
   "metadata": {},
   "outputs": [],
   "source": [
    "from scipy import stats"
   ]
  },
  {
   "cell_type": "code",
   "execution_count": 18,
   "metadata": {},
   "outputs": [],
   "source": [
    "# Are states with higher median earnings more likely to have higher water consumption? \n",
    "# Or, are there more likely to have less?"
   ]
  },
  {
   "cell_type": "code",
   "execution_count": 19,
   "metadata": {},
   "outputs": [
    {
     "data": {
      "image/png": "[encoded data removed]",
      "text/plain": [
       "<Figure size 864x576 with 1 Axes>"
      ]
     },
     "metadata": {},
     "output_type": "display_data"
    }
   ],
   "source": [
    "fig, axs = plt.subplots(figsize=(12,8))\n",
    "axs.scatter(df['Median Earnings (2010 dollars)'], df['Water Consumption (gallons per day, per capita)'], c='blue', edgecolors='none', s=30)\n",
    "plt.title(\"Median Earnings vs Water Consumption (per capita) by State\", fontsize=21)\n",
    "axs.set_xlabel(\"Median Earnings (2010 dollars)\", fontsize=18)\n",
    "axs.set_ylabel(\"Water Consumption (gallons per day, per capita)\", fontsize=18)\n",
    "axs.tick_params(labelsize=15)\n",
    "plt.show()"
   ]
  },
  {
   "cell_type": "code",
   "execution_count": 20,
   "metadata": {},
   "outputs": [],
   "source": [
    "# I drop nans in two columns specified here:\n",
    "new_df = df.dropna(subset=['Median Earnings (2010 dollars)','Water Consumption (gallons per day, per capita)'])"
   ]
  },
  {
   "cell_type": "code",
   "execution_count": 21,
   "metadata": {},
   "outputs": [
    {
     "data": {
      "text/html": [
       "<table class=\"simpletable\">\n",
       "<caption>OLS Regression Results</caption>\n",
       "<tr>\n",
       "  <th>Dep. Variable:</th>    <td>Water Consumption (gallons per day, per capita)</td> <th>  R-squared:         </th> <td>   0.123</td>\n",
       "</tr>\n",
       "<tr>\n",
       "  <th>Model:</th>                                  <td>OLS</td>                       <th>  Adj. R-squared:    </th> <td>   0.105</td>\n",
       "</tr>\n",
       "<tr>\n",
       "  <th>Method:</th>                            <td>Least Squares</td>                  <th>  F-statistic:       </th> <td>   6.871</td>\n",
       "</tr>\n",
       "<tr>\n",
       "  <th>Date:</th>                            <td>Wed, 23 Dec 2020</td>                 <th>  Prob (F-statistic):</th>  <td>0.0116</td> \n",
       "</tr>\n",
       "<tr>\n",
       "  <th>Time:</th>                                <td>23:53:01</td>                     <th>  Log-Likelihood:    </th> <td> -475.27</td>\n",
       "</tr>\n",
       "<tr>\n",
       "  <th>No. Observations:</th>                     <td>    51</td>                      <th>  AIC:               </th> <td>   954.5</td>\n",
       "</tr>\n",
       "<tr>\n",
       "  <th>Df Residuals:</th>                         <td>    49</td>                      <th>  BIC:               </th> <td>   958.4</td>\n",
       "</tr>\n",
       "<tr>\n",
       "  <th>Df Model:</th>                             <td>     1</td>                      <th>                     </th>     <td> </td>   \n",
       "</tr>\n",
       "<tr>\n",
       "  <th>Covariance Type:</th>                     <td>nonrobust</td>                    <th>                     </th>     <td> </td>   \n",
       "</tr>\n",
       "</table>\n",
       "<table class=\"simpletable\">\n",
       "<tr>\n",
       "                 <td></td>                   <th>coef</th>     <th>std err</th>      <th>t</th>      <th>P>|t|</th>  <th>[0.025</th>    <th>0.975]</th>  \n",
       "</tr>\n",
       "<tr>\n",
       "  <th>const</th>                          <td> 9644.9753</td> <td> 2838.369</td> <td>    3.398</td> <td> 0.001</td> <td> 3941.059</td> <td> 1.53e+04</td>\n",
       "</tr>\n",
       "<tr>\n",
       "  <th>Median Earnings (2010 dollars)</th> <td>   -0.2574</td> <td>    0.098</td> <td>   -2.621</td> <td> 0.012</td> <td>   -0.455</td> <td>   -0.060</td>\n",
       "</tr>\n",
       "</table>\n",
       "<table class=\"simpletable\">\n",
       "<tr>\n",
       "  <th>Omnibus:</th>       <td>49.657</td> <th>  Durbin-Watson:     </th> <td>   1.590</td>\n",
       "</tr>\n",
       "<tr>\n",
       "  <th>Prob(Omnibus):</th> <td> 0.000</td> <th>  Jarque-Bera (JB):  </th> <td> 187.560</td>\n",
       "</tr>\n",
       "<tr>\n",
       "  <th>Skew:</th>          <td> 2.744</td> <th>  Prob(JB):          </th> <td>1.87e-41</td>\n",
       "</tr>\n",
       "<tr>\n",
       "  <th>Kurtosis:</th>      <td>10.626</td> <th>  Cond. No.          </th> <td>2.13e+05</td>\n",
       "</tr>\n",
       "</table><br/><br/>Warnings:<br/>[1] Standard Errors assume that the covariance matrix of the errors is correctly specified.<br/>[2] The condition number is large, 2.13e+05. This might indicate that there are<br/>strong multicollinearity or other numerical problems."
      ],
      "text/plain": [
       "<class 'statsmodels.iolib.summary.Summary'>\n",
       "\"\"\"\n",
       "                                           OLS Regression Results                                          \n",
       "===========================================================================================================\n",
       "Dep. Variable:     Water Consumption (gallons per day, per capita)   R-squared:                       0.123\n",
       "Model:                                                         OLS   Adj. R-squared:                  0.105\n",
       "Method:                                              Least Squares   F-statistic:                     6.871\n",
       "Date:                                             Wed, 23 Dec 2020   Prob (F-statistic):             0.0116\n",
       "Time:                                                     23:53:01   Log-Likelihood:                -475.27\n",
       "No. Observations:                                               51   AIC:                             954.5\n",
       "Df Residuals:                                                   49   BIC:                             958.4\n",
       "Df Model:                                                        1                                         \n",
       "Covariance Type:                                         nonrobust                                         \n",
       "==================================================================================================\n",
       "                                     coef    std err          t      P>|t|      [0.025      0.975]\n",
       "--------------------------------------------------------------------------------------------------\n",
       "const                           9644.9753   2838.369      3.398      0.001    3941.059    1.53e+04\n",
       "Median Earnings (2010 dollars)    -0.2574      0.098     -2.621      0.012      -0.455      -0.060\n",
       "==============================================================================\n",
       "Omnibus:                       49.657   Durbin-Watson:                   1.590\n",
       "Prob(Omnibus):                  0.000   Jarque-Bera (JB):              187.560\n",
       "Skew:                           2.744   Prob(JB):                     1.87e-41\n",
       "Kurtosis:                      10.626   Cond. No.                     2.13e+05\n",
       "==============================================================================\n",
       "\n",
       "Warnings:\n",
       "[1] Standard Errors assume that the covariance matrix of the errors is correctly specified.\n",
       "[2] The condition number is large, 2.13e+05. This might indicate that there are\n",
       "strong multicollinearity or other numerical problems.\n",
       "\"\"\""
      ]
     },
     "metadata": {},
     "output_type": "display_data"
    }
   ],
   "source": [
    "# Obtain summary statistics:\n",
    "from statsmodels.regression.linear_model import OLS\n",
    "import statsmodels.api as sm\n",
    "\n",
    "x_vals = new_df['Median Earnings (2010 dollars)']\n",
    "y_vals = new_df['Water Consumption (gallons per day, per capita)']\n",
    "\n",
    "reg_model = OLS(y_vals, sm.add_constant(x_vals)).fit()\n",
    "display(reg_model.summary())"
   ]
  },
  {
   "cell_type": "code",
   "execution_count": 22,
   "metadata": {},
   "outputs": [
    {
     "name": "stdout",
     "output_type": "stream",
     "text": [
      "Correlation coefficient: -0.3506944888685202\n",
      "p-value: 0.011633685520426028\n"
     ]
    }
   ],
   "source": [
    "# Report p-value and correlation coefficient: \n",
    "from scipy import stats\n",
    "corr = stats.pearsonr(new_df['Median Earnings (2010 dollars)'], new_df['Water Consumption (gallons per day, per capita)'])\n",
    "print('Correlation coefficient:', corr[0])\n",
    "print('p-value:', corr[1])"
   ]
  },
  {
   "cell_type": "code",
   "execution_count": 23,
   "metadata": {},
   "outputs": [],
   "source": [
    "b0 = reg_model.params[0]\n",
    "b1 = reg_model.params[1]\n",
    "x_plot = np.linspace(np.min(new_df['Median Earnings (2010 dollars)']), np.max(new_df['Median Earnings (2010 dollars)']), 100)"
   ]
  },
  {
   "cell_type": "code",
   "execution_count": 24,
   "metadata": {},
   "outputs": [
    {
     "data": {
      "image/png": "[encoded data removed]",
      "text/plain": [
       "<Figure size 864x576 with 1 Axes>"
      ]
     },
     "metadata": {},
     "output_type": "display_data"
    }
   ],
   "source": [
    "# Create a scatterplot: \n",
    "fig, axs = plt.subplots(figsize=(12,8))\n",
    "axs.scatter(df['Median Earnings (2010 dollars)'], df['Water Consumption (gallons per day, per capita)'], c='royalblue', edgecolors='none', s=30)\n",
    "plt.title(\"Median Earnings vs Water Consumption (per capita) by State\", fontsize=20)\n",
    "axs.set_xlabel(\"Median Earnings (2010 dollars))\", fontsize=18)\n",
    "axs.set_ylabel(\"Water Consumption (gallons per day, per capita)\", fontsize=18)\n",
    "axs.plot(x_plot, x_plot*b1 + b0, color='crimson')\n",
    "axs.tick_params(labelsize=15)\n",
    "plt.text(25000, -1000, \"Water Consumption = Median Earnings * -0.2574 + 9644.9753\", fontsize=12, color='crimson')\n",
    "plt.show()"
   ]
  },
  {
   "cell_type": "code",
   "execution_count": 25,
   "metadata": {},
   "outputs": [],
   "source": [
    "# CONCLUSION: A significant regression equation was found at p<0.05 \n",
    "# but not significant at p<.001. The correlation coefficient between the two variables was \n",
    "# -0.35 (p<0.05, p>0.01). \n",
    "# This implies that, there is only a weak negative correlation between water consumption \n",
    "# and median earnings. \n",
    "\n"
   ]
  },
  {
   "cell_type": "code",
   "execution_count": null,
   "metadata": {},
   "outputs": [],
   "source": [
    "\n",
    "\n",
    "\n"
   ]
  },
  {
   "cell_type": "code",
   "execution_count": 26,
   "metadata": {},
   "outputs": [],
   "source": [
    "# NUMBER THREE: Now I will find states with high management vs low management percentages \n",
    "# and find out if there is any correlation between states with high management and \n",
    "# carbon dioxide emissions because my hypothesis is that states with high management \n",
    "# (aka the bourgeoisie) have less pollution but are perhaps higher causes of pollution. \n",
    "# They manage in their \"castles on the hill\" but pollute in their \"valleys below\". \n",
    "# This also would make sense because rural states with less management sector\n",
    "# might emit more carbon dioxide per capita for farming operations. "
   ]
  },
  {
   "cell_type": "code",
   "execution_count": 27,
   "metadata": {},
   "outputs": [
    {
     "data": {
      "text/plain": [
       "33.9"
      ]
     },
     "execution_count": 27,
     "metadata": {},
     "output_type": "execute_result"
    }
   ],
   "source": [
    "median_Mngmnt = np.median(df['Management, professional, and related occupations (%)'].dropna())\n",
    "median_Mngmnt"
   ]
  },
  {
   "cell_type": "code",
   "execution_count": 28,
   "metadata": {},
   "outputs": [],
   "source": [
    "lowMngmnt_df = df[df['Management, professional, and related occupations (%)'] <= median_Mngmnt]\n",
    "highMngmnt_df = df[df['Management, professional, and related occupations (%)'] > median_Mngmnt]"
   ]
  },
  {
   "cell_type": "code",
   "execution_count": 29,
   "metadata": {},
   "outputs": [
    {
     "name": "stdout",
     "output_type": "stream",
     "text": [
      "Low Management States C02 Level: 29.14444444444444\n",
      "High Management States C02 Level: 20.627916666666668\n"
     ]
    }
   ],
   "source": [
    "# Calculating average carbon dioxide emissions per capita between two groups --\n",
    "# (High Management and Low Management States)\n",
    "lowMean = np.mean(lowMngmnt_df['Carbon Dioxide Emissions (metric tons per capita)'].dropna())\n",
    "highMean = np.mean(highMngmnt_df['Carbon Dioxide Emissions (metric tons per capita)'].dropna())\n",
    "New_DF = (lowMean, highMean)\n",
    "print(\"Low Management States C02 Level:\", np.mean(lowMngmnt_df['Carbon Dioxide Emissions (metric tons per capita)'].dropna()))\n",
    "print(\"High Management States C02 Level:\", np.mean(highMngmnt_df['Carbon Dioxide Emissions (metric tons per capita)'].dropna()))"
   ]
  },
  {
   "cell_type": "code",
   "execution_count": 30,
   "metadata": {},
   "outputs": [
    {
     "data": {
      "image/png": "[encoded data removed]",
      "text/plain": [
       "<Figure size 720x432 with 1 Axes>"
      ]
     },
     "metadata": {},
     "output_type": "display_data"
    }
   ],
   "source": [
    "# Create a visualization: \n",
    "x_values = ['Low Management', 'High Management']\n",
    "y_values = New_DF\n",
    "\n",
    "fig, axs = plt.subplots(figsize=(10,6)) # Change the figure size here       \n",
    "axs.bar(x_values, y_values, color=('orange'), width=0.5) # You specify the color here     \n",
    "axs.set_title(\"C02 Emissions in High Management vs Low Management States\", fontsize=19)   \n",
    "axs.set_xlabel(\"Management Type\", fontsize=14)\n",
    "axs.set_ylabel(\"C02 Emissions (metric tons per capita)\", fontsize=14)\n",
    "axs.tick_params(labelsize=16)       \n",
    "\n",
    "for i in range(len(x_values)):\n",
    "    plt.text(i-0.25, y_values[i], str(y_values[i]), color='cornflowerblue', size=16)\n",
    "\n",
    "\n",
    "plt.show() \n",
    "\n"
   ]
  },
  {
   "cell_type": "code",
   "execution_count": 31,
   "metadata": {},
   "outputs": [
    {
     "name": "stdout",
     "output_type": "stream",
     "text": [
      "Test statistic: 1.5994185672671033\n",
      "p-value: 0.11622889654510264\n"
     ]
    }
   ],
   "source": [
    "# Conducting a two sample t-test:\n",
    "t_val, p_val = stats.ttest_ind(lowMngmnt_df['Carbon Dioxide Emissions (metric tons per capita)'].dropna(), highMngmnt_df['Carbon Dioxide Emissions (metric tons per capita)'].dropna(), equal_var=False)\n",
    "\n",
    "print(\"Test statistic:\", t_val)\n",
    "print(\"p-value:\", p_val)"
   ]
  },
  {
   "cell_type": "code",
   "execution_count": 32,
   "metadata": {},
   "outputs": [
    {
     "name": "stdout",
     "output_type": "stream",
     "text": [
      "Average is: 29.14444444444444\n",
      "95% CI of mean is: (21.320354916164572, 36.9685339727243)\n"
     ]
    }
   ],
   "source": [
    "# 95% CI of mean C02 level for Low Management states:\n",
    "CI_mean(lowMngmnt_df['Carbon Dioxide Emissions (metric tons per capita)'])"
   ]
  },
  {
   "cell_type": "code",
   "execution_count": 33,
   "metadata": {},
   "outputs": [
    {
     "name": "stdout",
     "output_type": "stream",
     "text": [
      "Average is: 20.627916666666668\n",
      "95% CI of mean is: (14.035429139059573, 27.220404194273762)\n"
     ]
    }
   ],
   "source": [
    "# 95% CI of mean C02 level for High Management states:\n",
    "CI_mean(highMngmnt_df['Carbon Dioxide Emissions (metric tons per capita)'])"
   ]
  },
  {
   "cell_type": "code",
   "execution_count": 34,
   "metadata": {},
   "outputs": [
    {
     "name": "stdout",
     "output_type": "stream",
     "text": [
      "The average difference is: 8.516527777777771\n",
      "The 95% CI is: (-1.7146631963070025, 18.747718751862543)\n"
     ]
    }
   ],
   "source": [
    "# Report average difference and the 95% CI: \n",
    "CI_mean_diff(lowMngmnt_df['Carbon Dioxide Emissions (metric tons per capita)'], highMngmnt_df['Carbon Dioxide Emissions (metric tons per capita)'])"
   ]
  },
  {
   "cell_type": "code",
   "execution_count": 35,
   "metadata": {},
   "outputs": [],
   "source": [
    "# CONCLUSION: I am perplexed because the two means lie outside each other’s \n",
    "# confidence intervals so I am surprised p>0.05. \n",
    "# The average difference was 8.516 metric tons per capita \n",
    "# (95% CI is: [-1.7146631963070025, 18.747718751862543]). \n",
    "# With this large difference I would’ve expected to reject the null hypothesis. \n",
    "# However, there may be a large variance as indicated by the wide confidence interval \n",
    "# and this is probably the reason the null hypothesis could not be rejected. "
   ]
  },
  {
   "cell_type": "code",
   "execution_count": null,
   "metadata": {},
   "outputs": [],
   "source": [
    "\n",
    "\n",
    "\n"
   ]
  },
  {
   "cell_type": "code",
   "execution_count": 36,
   "metadata": {},
   "outputs": [],
   "source": [
    "# NUMBER FOUR: Now I will conduct a chi-square test between mostly urban and voter turnout \n",
    "# by state. Do urban states have higher voter turnout or less? Voter turnout is important \n",
    "# for the environmental movement as an intersectional movement fighting for more democracy \n",
    "# and justice in all it's forms. We cannot save the planet unless there is a political\n",
    "# paradigm shift! \n",
    "\n",
    "# Here, I grouped urban and rural states at the median because this dataset is organized by \n",
    "# state and there was not a cleaner way to group them otherwise. \n",
    "\n",
    "median_urban = np.median(df['Urban Population (%)'].dropna())\n",
    "median_urban\n",
    "\n",
    "urban_df = df[df['Urban Population (%)'] >= median_urban]\n",
    "rural_df = df[df['Urban Population (%)'] < median_urban]"
   ]
  },
  {
   "cell_type": "code",
   "execution_count": 37,
   "metadata": {},
   "outputs": [
    {
     "data": {
      "text/html": [
       "<div>\n",
       "<style scoped>\n",
       "    .dataframe tbody tr th:only-of-type {\n",
       "        vertical-align: middle;\n",
       "    }\n",
       "\n",
       "    .dataframe tbody tr th {\n",
       "        vertical-align: top;\n",
       "    }\n",
       "\n",
       "    .dataframe thead th {\n",
       "        text-align: right;\n",
       "    }\n",
       "</style>\n",
       "<table border=\"1\" class=\"dataframe\">\n",
       "  <thead>\n",
       "    <tr style=\"text-align: right;\">\n",
       "      <th></th>\n",
       "      <th>State</th>\n",
       "      <th>Urban Population (%)</th>\n",
       "      <th>Rural Population (%)</th>\n",
       "      <th>Turnout (% of eligible voters who voted)</th>\n",
       "    </tr>\n",
       "  </thead>\n",
       "  <tbody>\n",
       "    <tr>\n",
       "      <th>0</th>\n",
       "      <td>Alabama</td>\n",
       "      <td>59.04</td>\n",
       "      <td>40.96</td>\n",
       "      <td>58.9</td>\n",
       "    </tr>\n",
       "    <tr>\n",
       "      <th>1</th>\n",
       "      <td>Alaska</td>\n",
       "      <td>66.02</td>\n",
       "      <td>33.98</td>\n",
       "      <td>58.9</td>\n",
       "    </tr>\n",
       "    <tr>\n",
       "      <th>2</th>\n",
       "      <td>Arizona</td>\n",
       "      <td>89.81</td>\n",
       "      <td>10.19</td>\n",
       "      <td>52.9</td>\n",
       "    </tr>\n",
       "    <tr>\n",
       "      <th>3</th>\n",
       "      <td>Arkansas</td>\n",
       "      <td>56.16</td>\n",
       "      <td>43.84</td>\n",
       "      <td>50.5</td>\n",
       "    </tr>\n",
       "    <tr>\n",
       "      <th>4</th>\n",
       "      <td>California</td>\n",
       "      <td>94.95</td>\n",
       "      <td>5.05</td>\n",
       "      <td>55.2</td>\n",
       "    </tr>\n",
       "    <tr>\n",
       "      <th>5</th>\n",
       "      <td>Colorado</td>\n",
       "      <td>86.15</td>\n",
       "      <td>13.85</td>\n",
       "      <td>70.3</td>\n",
       "    </tr>\n",
       "    <tr>\n",
       "      <th>6</th>\n",
       "      <td>Connecticut</td>\n",
       "      <td>87.99</td>\n",
       "      <td>12.01</td>\n",
       "      <td>60.9</td>\n",
       "    </tr>\n",
       "    <tr>\n",
       "      <th>7</th>\n",
       "      <td>Delaware</td>\n",
       "      <td>83.30</td>\n",
       "      <td>16.70</td>\n",
       "      <td>62.7</td>\n",
       "    </tr>\n",
       "    <tr>\n",
       "      <th>8</th>\n",
       "      <td>District of Columbia</td>\n",
       "      <td>100.00</td>\n",
       "      <td>0.00</td>\n",
       "      <td>61.9</td>\n",
       "    </tr>\n",
       "    <tr>\n",
       "      <th>9</th>\n",
       "      <td>Florida</td>\n",
       "      <td>91.16</td>\n",
       "      <td>8.84</td>\n",
       "      <td>63.5</td>\n",
       "    </tr>\n",
       "    <tr>\n",
       "      <th>10</th>\n",
       "      <td>Georgia</td>\n",
       "      <td>75.07</td>\n",
       "      <td>24.93</td>\n",
       "      <td>58.4</td>\n",
       "    </tr>\n",
       "    <tr>\n",
       "      <th>11</th>\n",
       "      <td>Hawaii</td>\n",
       "      <td>91.93</td>\n",
       "      <td>8.07</td>\n",
       "      <td>44.2</td>\n",
       "    </tr>\n",
       "    <tr>\n",
       "      <th>12</th>\n",
       "      <td>Idaho</td>\n",
       "      <td>70.58</td>\n",
       "      <td>29.42</td>\n",
       "      <td>59.6</td>\n",
       "    </tr>\n",
       "    <tr>\n",
       "      <th>13</th>\n",
       "      <td>Illinois</td>\n",
       "      <td>88.49</td>\n",
       "      <td>11.51</td>\n",
       "      <td>58.9</td>\n",
       "    </tr>\n",
       "    <tr>\n",
       "      <th>14</th>\n",
       "      <td>Indiana</td>\n",
       "      <td>72.44</td>\n",
       "      <td>27.56</td>\n",
       "      <td>55.1</td>\n",
       "    </tr>\n",
       "    <tr>\n",
       "      <th>15</th>\n",
       "      <td>Iowa</td>\n",
       "      <td>64.02</td>\n",
       "      <td>35.98</td>\n",
       "      <td>69.9</td>\n",
       "    </tr>\n",
       "    <tr>\n",
       "      <th>16</th>\n",
       "      <td>Kansas</td>\n",
       "      <td>74.20</td>\n",
       "      <td>25.80</td>\n",
       "      <td>56.8</td>\n",
       "    </tr>\n",
       "    <tr>\n",
       "      <th>17</th>\n",
       "      <td>Kentucky</td>\n",
       "      <td>58.38</td>\n",
       "      <td>41.62</td>\n",
       "      <td>55.3</td>\n",
       "    </tr>\n",
       "    <tr>\n",
       "      <th>18</th>\n",
       "      <td>Louisiana</td>\n",
       "      <td>73.19</td>\n",
       "      <td>26.81</td>\n",
       "      <td>60.4</td>\n",
       "    </tr>\n",
       "    <tr>\n",
       "      <th>19</th>\n",
       "      <td>Maine</td>\n",
       "      <td>38.66</td>\n",
       "      <td>61.34</td>\n",
       "      <td>68.1</td>\n",
       "    </tr>\n",
       "    <tr>\n",
       "      <th>20</th>\n",
       "      <td>Maryland</td>\n",
       "      <td>87.20</td>\n",
       "      <td>12.80</td>\n",
       "      <td>66.2</td>\n",
       "    </tr>\n",
       "    <tr>\n",
       "      <th>21</th>\n",
       "      <td>Massachusetts</td>\n",
       "      <td>91.97</td>\n",
       "      <td>8.03</td>\n",
       "      <td>66.3</td>\n",
       "    </tr>\n",
       "    <tr>\n",
       "      <th>22</th>\n",
       "      <td>Michigan</td>\n",
       "      <td>74.57</td>\n",
       "      <td>25.43</td>\n",
       "      <td>64.7</td>\n",
       "    </tr>\n",
       "    <tr>\n",
       "      <th>23</th>\n",
       "      <td>Minnesota</td>\n",
       "      <td>73.27</td>\n",
       "      <td>26.73</td>\n",
       "      <td>75.7</td>\n",
       "    </tr>\n",
       "    <tr>\n",
       "      <th>24</th>\n",
       "      <td>Mississippi</td>\n",
       "      <td>49.35</td>\n",
       "      <td>50.65</td>\n",
       "      <td>59.7</td>\n",
       "    </tr>\n",
       "    <tr>\n",
       "      <th>25</th>\n",
       "      <td>Missouri</td>\n",
       "      <td>70.44</td>\n",
       "      <td>29.56</td>\n",
       "      <td>62.5</td>\n",
       "    </tr>\n",
       "    <tr>\n",
       "      <th>26</th>\n",
       "      <td>Montana</td>\n",
       "      <td>55.89</td>\n",
       "      <td>44.11</td>\n",
       "      <td>62.6</td>\n",
       "    </tr>\n",
       "    <tr>\n",
       "      <th>27</th>\n",
       "      <td>Nebraska</td>\n",
       "      <td>73.13</td>\n",
       "      <td>26.87</td>\n",
       "      <td>60.1</td>\n",
       "    </tr>\n",
       "    <tr>\n",
       "      <th>28</th>\n",
       "      <td>Nevada</td>\n",
       "      <td>94.20</td>\n",
       "      <td>5.80</td>\n",
       "      <td>57.1</td>\n",
       "    </tr>\n",
       "    <tr>\n",
       "      <th>29</th>\n",
       "      <td>New Hampshire</td>\n",
       "      <td>60.30</td>\n",
       "      <td>39.70</td>\n",
       "      <td>70.1</td>\n",
       "    </tr>\n",
       "    <tr>\n",
       "      <th>30</th>\n",
       "      <td>New Jersey</td>\n",
       "      <td>94.68</td>\n",
       "      <td>5.32</td>\n",
       "      <td>61.9</td>\n",
       "    </tr>\n",
       "    <tr>\n",
       "      <th>31</th>\n",
       "      <td>New Mexico</td>\n",
       "      <td>77.43</td>\n",
       "      <td>22.57</td>\n",
       "      <td>54.7</td>\n",
       "    </tr>\n",
       "    <tr>\n",
       "      <th>32</th>\n",
       "      <td>New York</td>\n",
       "      <td>87.87</td>\n",
       "      <td>12.13</td>\n",
       "      <td>53.2</td>\n",
       "    </tr>\n",
       "    <tr>\n",
       "      <th>33</th>\n",
       "      <td>North Carolina</td>\n",
       "      <td>66.09</td>\n",
       "      <td>33.91</td>\n",
       "      <td>64.6</td>\n",
       "    </tr>\n",
       "    <tr>\n",
       "      <th>34</th>\n",
       "      <td>North Dakota</td>\n",
       "      <td>59.90</td>\n",
       "      <td>40.10</td>\n",
       "      <td>60.6</td>\n",
       "    </tr>\n",
       "    <tr>\n",
       "      <th>35</th>\n",
       "      <td>Ohio</td>\n",
       "      <td>77.92</td>\n",
       "      <td>22.08</td>\n",
       "      <td>64.6</td>\n",
       "    </tr>\n",
       "    <tr>\n",
       "      <th>36</th>\n",
       "      <td>Oklahoma</td>\n",
       "      <td>66.24</td>\n",
       "      <td>33.76</td>\n",
       "      <td>49.2</td>\n",
       "    </tr>\n",
       "    <tr>\n",
       "      <th>37</th>\n",
       "      <td>Oregon</td>\n",
       "      <td>81.03</td>\n",
       "      <td>18.97</td>\n",
       "      <td>63.2</td>\n",
       "    </tr>\n",
       "    <tr>\n",
       "      <th>38</th>\n",
       "      <td>Pennsylvania</td>\n",
       "      <td>78.66</td>\n",
       "      <td>21.34</td>\n",
       "      <td>59.4</td>\n",
       "    </tr>\n",
       "    <tr>\n",
       "      <th>39</th>\n",
       "      <td>Rhode Island</td>\n",
       "      <td>90.73</td>\n",
       "      <td>9.27</td>\n",
       "      <td>58.0</td>\n",
       "    </tr>\n",
       "    <tr>\n",
       "      <th>40</th>\n",
       "      <td>South Carolina</td>\n",
       "      <td>66.33</td>\n",
       "      <td>33.67</td>\n",
       "      <td>56.6</td>\n",
       "    </tr>\n",
       "    <tr>\n",
       "      <th>41</th>\n",
       "      <td>South Dakota</td>\n",
       "      <td>56.65</td>\n",
       "      <td>43.35</td>\n",
       "      <td>59.4</td>\n",
       "    </tr>\n",
       "    <tr>\n",
       "      <th>42</th>\n",
       "      <td>Tennessee</td>\n",
       "      <td>66.39</td>\n",
       "      <td>33.61</td>\n",
       "      <td>52.2</td>\n",
       "    </tr>\n",
       "    <tr>\n",
       "      <th>43</th>\n",
       "      <td>Texas</td>\n",
       "      <td>84.70</td>\n",
       "      <td>15.30</td>\n",
       "      <td>49.7</td>\n",
       "    </tr>\n",
       "    <tr>\n",
       "      <th>44</th>\n",
       "      <td>Utah</td>\n",
       "      <td>90.58</td>\n",
       "      <td>9.42</td>\n",
       "      <td>55.4</td>\n",
       "    </tr>\n",
       "    <tr>\n",
       "      <th>45</th>\n",
       "      <td>Vermont</td>\n",
       "      <td>38.90</td>\n",
       "      <td>61.10</td>\n",
       "      <td>60.4</td>\n",
       "    </tr>\n",
       "    <tr>\n",
       "      <th>46</th>\n",
       "      <td>Virginia</td>\n",
       "      <td>75.45</td>\n",
       "      <td>24.55</td>\n",
       "      <td>66.4</td>\n",
       "    </tr>\n",
       "    <tr>\n",
       "      <th>47</th>\n",
       "      <td>Washington</td>\n",
       "      <td>84.05</td>\n",
       "      <td>15.95</td>\n",
       "      <td>64.1</td>\n",
       "    </tr>\n",
       "    <tr>\n",
       "      <th>48</th>\n",
       "      <td>West Virginia</td>\n",
       "      <td>48.72</td>\n",
       "      <td>51.28</td>\n",
       "      <td>46.3</td>\n",
       "    </tr>\n",
       "    <tr>\n",
       "      <th>49</th>\n",
       "      <td>Wisconsin</td>\n",
       "      <td>70.15</td>\n",
       "      <td>29.85</td>\n",
       "      <td>72.5</td>\n",
       "    </tr>\n",
       "    <tr>\n",
       "      <th>50</th>\n",
       "      <td>Wyoming</td>\n",
       "      <td>64.76</td>\n",
       "      <td>35.24</td>\n",
       "      <td>58.9</td>\n",
       "    </tr>\n",
       "  </tbody>\n",
       "</table>\n",
       "</div>"
      ],
      "text/plain": [
       "                   State  Urban Population (%)  Rural Population (%)  \\\n",
       "0                Alabama                 59.04                 40.96   \n",
       "1                 Alaska                 66.02                 33.98   \n",
       "2                Arizona                 89.81                 10.19   \n",
       "3               Arkansas                 56.16                 43.84   \n",
       "4             California                 94.95                  5.05   \n",
       "5               Colorado                 86.15                 13.85   \n",
       "6            Connecticut                 87.99                 12.01   \n",
       "7               Delaware                 83.30                 16.70   \n",
       "8   District of Columbia                100.00                  0.00   \n",
       "9                Florida                 91.16                  8.84   \n",
       "10               Georgia                 75.07                 24.93   \n",
       "11                Hawaii                 91.93                  8.07   \n",
       "12                 Idaho                 70.58                 29.42   \n",
       "13              Illinois                 88.49                 11.51   \n",
       "14               Indiana                 72.44                 27.56   \n",
       "15                  Iowa                 64.02                 35.98   \n",
       "16                Kansas                 74.20                 25.80   \n",
       "17              Kentucky                 58.38                 41.62   \n",
       "18             Louisiana                 73.19                 26.81   \n",
       "19                 Maine                 38.66                 61.34   \n",
       "20              Maryland                 87.20                 12.80   \n",
       "21         Massachusetts                 91.97                  8.03   \n",
       "22              Michigan                 74.57                 25.43   \n",
       "23             Minnesota                 73.27                 26.73   \n",
       "24           Mississippi                 49.35                 50.65   \n",
       "25              Missouri                 70.44                 29.56   \n",
       "26               Montana                 55.89                 44.11   \n",
       "27              Nebraska                 73.13                 26.87   \n",
       "28                Nevada                 94.20                  5.80   \n",
       "29         New Hampshire                 60.30                 39.70   \n",
       "30            New Jersey                 94.68                  5.32   \n",
       "31            New Mexico                 77.43                 22.57   \n",
       "32              New York                 87.87                 12.13   \n",
       "33        North Carolina                 66.09                 33.91   \n",
       "34          North Dakota                 59.90                 40.10   \n",
       "35                  Ohio                 77.92                 22.08   \n",
       "36              Oklahoma                 66.24                 33.76   \n",
       "37                Oregon                 81.03                 18.97   \n",
       "38          Pennsylvania                 78.66                 21.34   \n",
       "39          Rhode Island                 90.73                  9.27   \n",
       "40        South Carolina                 66.33                 33.67   \n",
       "41          South Dakota                 56.65                 43.35   \n",
       "42             Tennessee                 66.39                 33.61   \n",
       "43                 Texas                 84.70                 15.30   \n",
       "44                  Utah                 90.58                  9.42   \n",
       "45               Vermont                 38.90                 61.10   \n",
       "46              Virginia                 75.45                 24.55   \n",
       "47            Washington                 84.05                 15.95   \n",
       "48         West Virginia                 48.72                 51.28   \n",
       "49             Wisconsin                 70.15                 29.85   \n",
       "50               Wyoming                 64.76                 35.24   \n",
       "\n",
       "    Turnout (% of eligible voters who voted)  \n",
       "0                                       58.9  \n",
       "1                                       58.9  \n",
       "2                                       52.9  \n",
       "3                                       50.5  \n",
       "4                                       55.2  \n",
       "5                                       70.3  \n",
       "6                                       60.9  \n",
       "7                                       62.7  \n",
       "8                                       61.9  \n",
       "9                                       63.5  \n",
       "10                                      58.4  \n",
       "11                                      44.2  \n",
       "12                                      59.6  \n",
       "13                                      58.9  \n",
       "14                                      55.1  \n",
       "15                                      69.9  \n",
       "16                                      56.8  \n",
       "17                                      55.3  \n",
       "18                                      60.4  \n",
       "19                                      68.1  \n",
       "20                                      66.2  \n",
       "21                                      66.3  \n",
       "22                                      64.7  \n",
       "23                                      75.7  \n",
       "24                                      59.7  \n",
       "25                                      62.5  \n",
       "26                                      62.6  \n",
       "27                                      60.1  \n",
       "28                                      57.1  \n",
       "29                                      70.1  \n",
       "30                                      61.9  \n",
       "31                                      54.7  \n",
       "32                                      53.2  \n",
       "33                                      64.6  \n",
       "34                                      60.6  \n",
       "35                                      64.6  \n",
       "36                                      49.2  \n",
       "37                                      63.2  \n",
       "38                                      59.4  \n",
       "39                                      58.0  \n",
       "40                                      56.6  \n",
       "41                                      59.4  \n",
       "42                                      52.2  \n",
       "43                                      49.7  \n",
       "44                                      55.4  \n",
       "45                                      60.4  \n",
       "46                                      66.4  \n",
       "47                                      64.1  \n",
       "48                                      46.3  \n",
       "49                                      72.5  \n",
       "50                                      58.9  "
      ]
     },
     "execution_count": 37,
     "metadata": {},
     "output_type": "execute_result"
    }
   ],
   "source": [
    "data = df[['State','Urban Population (%)', 'Rural Population (%)', 'Turnout (% of eligible voters who voted)']]\n",
    "data = data.dropna()\n",
    "data"
   ]
  },
  {
   "cell_type": "code",
   "execution_count": 38,
   "metadata": {},
   "outputs": [],
   "source": [
    "# Function to make Urban vs Rural a categorical variable: \n",
    "def function(row):\n",
    "    if row['Urban Population (%)'] >= median_urban:\n",
    "        return 'Urban'\n",
    "    elif row['Urban Population (%)'] < median_urban:\n",
    "        return 'Rural'\n",
    "    else:\n",
    "        return 'NaN'"
   ]
  },
  {
   "cell_type": "code",
   "execution_count": 39,
   "metadata": {},
   "outputs": [],
   "source": [
    "data['Urban or Rural'] = data.apply(function, axis=1)"
   ]
  },
  {
   "cell_type": "code",
   "execution_count": 40,
   "metadata": {},
   "outputs": [
    {
     "data": {
      "text/plain": [
       "59.7"
      ]
     },
     "execution_count": 40,
     "metadata": {},
     "output_type": "execute_result"
    }
   ],
   "source": [
    "median_turnout = np.median(df['Turnout (% of eligible voters who voted)'].dropna())\n",
    "median_turnout"
   ]
  },
  {
   "cell_type": "code",
   "execution_count": 41,
   "metadata": {},
   "outputs": [],
   "source": [
    "# Function to make voter turnout a categorical variable: \n",
    "def function(turnout):\n",
    "    if turnout['Turnout (% of eligible voters who voted)'] <= median_turnout:\n",
    "        return 'Low Turnout'\n",
    "    else:\n",
    "        return 'High Turnout'"
   ]
  },
  {
   "cell_type": "code",
   "execution_count": 42,
   "metadata": {},
   "outputs": [],
   "source": [
    "data['Turnout_1'] = data.apply(function, axis=1)"
   ]
  },
  {
   "cell_type": "code",
   "execution_count": 43,
   "metadata": {},
   "outputs": [
    {
     "data": {
      "text/html": [
       "<div>\n",
       "<style scoped>\n",
       "    .dataframe tbody tr th:only-of-type {\n",
       "        vertical-align: middle;\n",
       "    }\n",
       "\n",
       "    .dataframe tbody tr th {\n",
       "        vertical-align: top;\n",
       "    }\n",
       "\n",
       "    .dataframe thead th {\n",
       "        text-align: right;\n",
       "    }\n",
       "</style>\n",
       "<table border=\"1\" class=\"dataframe\">\n",
       "  <thead>\n",
       "    <tr style=\"text-align: right;\">\n",
       "      <th>Turnout_1</th>\n",
       "      <th>High Turnout</th>\n",
       "      <th>Low Turnout</th>\n",
       "    </tr>\n",
       "    <tr>\n",
       "      <th>Urban or Rural</th>\n",
       "      <th></th>\n",
       "      <th></th>\n",
       "    </tr>\n",
       "  </thead>\n",
       "  <tbody>\n",
       "    <tr>\n",
       "      <th>Rural</th>\n",
       "      <td>12</td>\n",
       "      <td>13</td>\n",
       "    </tr>\n",
       "    <tr>\n",
       "      <th>Urban</th>\n",
       "      <td>13</td>\n",
       "      <td>13</td>\n",
       "    </tr>\n",
       "  </tbody>\n",
       "</table>\n",
       "</div>"
      ],
      "text/plain": [
       "Turnout_1       High Turnout  Low Turnout\n",
       "Urban or Rural                           \n",
       "Rural                     12           13\n",
       "Urban                     13           13"
      ]
     },
     "execution_count": 43,
     "metadata": {},
     "output_type": "execute_result"
    }
   ],
   "source": [
    "# Chi-Sq table: \n",
    "table = pd.crosstab(index=data[\"Urban or Rural\"], columns=data[\"Turnout_1\"]) \n",
    "table"
   ]
  },
  {
   "cell_type": "code",
   "execution_count": 44,
   "metadata": {},
   "outputs": [
    {
     "name": "stdout",
     "output_type": "stream",
     "text": [
      "Turnout_1       High Turnout  Low Turnout  Total  High_Turnout_per\n",
      "Urban or Rural                                                    \n",
      "Rural                     12           13     25              0.48\n",
      "Urban                     13           13     26              0.50\n"
     ]
    }
   ],
   "source": [
    "# Finding the proportion of State types (urban vs rural) with \"high voter turnout\":\n",
    "table['Total'] = table['High Turnout'] + table['Low Turnout']\n",
    "table['High_Turnout_per'] = table['High Turnout'] / table['Total']\n",
    "\n",
    "print(table)"
   ]
  },
  {
   "cell_type": "code",
   "execution_count": 45,
   "metadata": {},
   "outputs": [
    {
     "data": {
      "image/png": "[encoded data removed]",
      "text/plain": [
       "<Figure size 360x432 with 1 Axes>"
      ]
     },
     "metadata": {},
     "output_type": "display_data"
    }
   ],
   "source": [
    "# Create a visualization: \n",
    "x_values = ['Rural', 'Urban']\n",
    "y_values = table['High_Turnout_per']\n",
    "\n",
    "fig, axs = plt.subplots(figsize=(5,6)) # Change the figure size here       \n",
    "axs.bar(x_values, y_values, color=('mediumturquoise'), width=0.4) # You specify the color here     \n",
    "axs.set_title(\"Urban vs Rural States and Voter Turnout\", fontsize=20)   \n",
    "axs.set_xlabel(\"\", fontsize=14)\n",
    "axs.set_ylabel(\"Proportion of States with High Voter Turnout\", fontsize=12)\n",
    "axs.tick_params(labelsize=16)       \n",
    "\n",
    "\n",
    "for i in range(len(x_values)):\n",
    "    plt.text(i-0.1, y_values[i], str(y_values[i]), color='dimgray', size=16)\n",
    "    \n",
    "plt.show() "
   ]
  },
  {
   "cell_type": "code",
   "execution_count": 46,
   "metadata": {},
   "outputs": [
    {
     "name": "stdout",
     "output_type": "stream",
     "text": [
      "chi2: 0.020400628064371942\n",
      "p: 0.9992297571075016\n",
      "dof: 3\n",
      "expected: [[12.25480676 12.74499903 24.99980579  0.48038842]\n",
      " [12.74519324 13.25500097 26.00019421  0.49961158]]\n"
     ]
    }
   ],
   "source": [
    "# Run chi-sq test: \n",
    "from scipy import stats\n",
    "\n",
    "chi2, p, dof, expected = stats.chi2_contingency(table)\n",
    "\n",
    "print(\"chi2:\", chi2)\n",
    "print(\"p:\", p)\n",
    "print(\"dof:\", dof)\n",
    "print(\"expected:\", expected)"
   ]
  },
  {
   "cell_type": "code",
   "execution_count": 47,
   "metadata": {},
   "outputs": [],
   "source": [
    "# Function for 95% confidence interval of proportion difference: \n",
    "def CI_prop_diff(s1, s2, n1, n2):\n",
    "    p1 = s1 / n1\n",
    "    p2 = s2 / n2\n",
    "    se2p1 = p1 * (1 - p1) / n1\n",
    "    se2p2 = p2 * (1 - p2) / n2\n",
    "    se2 = se2p1 + se2p2\n",
    "    se = np.sqrt(se2)\n",
    "    low = (p1 - p2) - 1.96 * se\n",
    "    up = (p1 - p2) + 1.96 * se\n",
    "    print(\"Proportion difference is:\", p1 - p2)\n",
    "    print(\"95% CI is: ({}, {})\".format(low, up))"
   ]
  },
  {
   "cell_type": "code",
   "execution_count": 48,
   "metadata": {},
   "outputs": [
    {
     "data": {
      "text/html": [
       "<div>\n",
       "<style scoped>\n",
       "    .dataframe tbody tr th:only-of-type {\n",
       "        vertical-align: middle;\n",
       "    }\n",
       "\n",
       "    .dataframe tbody tr th {\n",
       "        vertical-align: top;\n",
       "    }\n",
       "\n",
       "    .dataframe thead th {\n",
       "        text-align: right;\n",
       "    }\n",
       "</style>\n",
       "<table border=\"1\" class=\"dataframe\">\n",
       "  <thead>\n",
       "    <tr style=\"text-align: right;\">\n",
       "      <th>Turnout_1</th>\n",
       "      <th>High Turnout</th>\n",
       "      <th>Low Turnout</th>\n",
       "      <th>Total</th>\n",
       "      <th>High_Turnout_per</th>\n",
       "    </tr>\n",
       "    <tr>\n",
       "      <th>Urban or Rural</th>\n",
       "      <th></th>\n",
       "      <th></th>\n",
       "      <th></th>\n",
       "      <th></th>\n",
       "    </tr>\n",
       "  </thead>\n",
       "  <tbody>\n",
       "    <tr>\n",
       "      <th>Rural</th>\n",
       "      <td>12</td>\n",
       "      <td>13</td>\n",
       "      <td>25</td>\n",
       "      <td>0.48</td>\n",
       "    </tr>\n",
       "    <tr>\n",
       "      <th>Urban</th>\n",
       "      <td>13</td>\n",
       "      <td>13</td>\n",
       "      <td>26</td>\n",
       "      <td>0.50</td>\n",
       "    </tr>\n",
       "  </tbody>\n",
       "</table>\n",
       "</div>"
      ],
      "text/plain": [
       "Turnout_1       High Turnout  Low Turnout  Total  High_Turnout_per\n",
       "Urban or Rural                                                    \n",
       "Rural                     12           13     25              0.48\n",
       "Urban                     13           13     26              0.50"
      ]
     },
     "execution_count": 48,
     "metadata": {},
     "output_type": "execute_result"
    }
   ],
   "source": [
    "table"
   ]
  },
  {
   "cell_type": "code",
   "execution_count": 49,
   "metadata": {},
   "outputs": [
    {
     "name": "stdout",
     "output_type": "stream",
     "text": [
      "Proportion difference is: -0.020000000000000018\n",
      "95% CI is: (-0.29439569227387946, 0.2543956922738794)\n"
     ]
    }
   ],
   "source": [
    "# Report proportion difference and 95% CI: \n",
    "CI_prop_diff(s1=12, s2=13, n1=25, n2=26)"
   ]
  },
  {
   "cell_type": "code",
   "execution_count": 50,
   "metadata": {},
   "outputs": [
    {
     "data": {
      "text/plain": [
       "51"
      ]
     },
     "execution_count": 50,
     "metadata": {},
     "output_type": "execute_result"
    }
   ],
   "source": [
    "12 + 13 + 13 + 13"
   ]
  },
  {
   "cell_type": "code",
   "execution_count": 51,
   "metadata": {},
   "outputs": [],
   "source": [
    "# CONCLUSION: The data provides weak evidence that the proportion of states with high voter \n",
    "# turnout was less in rural states than in urban states (chi2(1, N=51)\n",
    "# The observed proportion difference was -0.020 (95% CI = [-0.249,0.254])."
   ]
  },
  {
   "cell_type": "code",
   "execution_count": null,
   "metadata": {},
   "outputs": [],
   "source": [
    "\n",
    "\n",
    "\n"
   ]
  },
  {
   "cell_type": "code",
   "execution_count": 52,
   "metadata": {},
   "outputs": [],
   "source": [
    "# NUMBER FIVE: Here, I will conduct one more regression test to examine the \n",
    "# relationship between energy consumption and poverty rate:"
   ]
  },
  {
   "cell_type": "code",
   "execution_count": 53,
   "metadata": {},
   "outputs": [],
   "source": [
    "# Is state-level poverty rate correlated with energy consumption?"
   ]
  },
  {
   "cell_type": "code",
   "execution_count": 54,
   "metadata": {},
   "outputs": [
    {
     "data": {
      "image/png": "[encoded data removed]",
      "text/plain": [
       "<Figure size 864x576 with 1 Axes>"
      ]
     },
     "metadata": {},
     "output_type": "display_data"
    }
   ],
   "source": [
    "fig, axs = plt.subplots(figsize=(12,8))\n",
    "axs.scatter(df['Poverty Rate (% below federal poverty threshold)'], df['Energy Consumption (BTUs per capita)'], c='blue', edgecolors='none', s=30)\n",
    "plt.title(\"Poverty Rate vs Energy Consumption (BTUs per capita) by State\", fontsize=20)\n",
    "axs.set_xlabel(\"Poverty Rate (% below federal poverty threshold)\", fontsize=18)\n",
    "axs.set_ylabel(\"Energy Consumption (BTUs per capita)\", fontsize=18)\n",
    "axs.tick_params(labelsize=15)\n",
    "plt.show()"
   ]
  },
  {
   "cell_type": "code",
   "execution_count": 55,
   "metadata": {},
   "outputs": [],
   "source": [
    "# I drop nans in two columns specified here:\n",
    "newly_df = df.dropna(subset=['Poverty Rate (% below federal poverty threshold)','Energy Consumption (BTUs per capita)'])"
   ]
  },
  {
   "cell_type": "code",
   "execution_count": 56,
   "metadata": {},
   "outputs": [
    {
     "data": {
      "text/html": [
       "<table class=\"simpletable\">\n",
       "<caption>OLS Regression Results</caption>\n",
       "<tr>\n",
       "  <th>Dep. Variable:</th>    <td>Energy Consumption (BTUs per capita)</td> <th>  R-squared:         </th> <td>   0.000</td>\n",
       "</tr>\n",
       "<tr>\n",
       "  <th>Model:</th>                             <td>OLS</td>                 <th>  Adj. R-squared:    </th> <td>  -0.020</td>\n",
       "</tr>\n",
       "<tr>\n",
       "  <th>Method:</th>                       <td>Least Squares</td>            <th>  F-statistic:       </th> <td> 0.01180</td>\n",
       "</tr>\n",
       "<tr>\n",
       "  <th>Date:</th>                       <td>Wed, 23 Dec 2020</td>           <th>  Prob (F-statistic):</th>  <td> 0.914</td> \n",
       "</tr>\n",
       "<tr>\n",
       "  <th>Time:</th>                           <td>23:53:04</td>               <th>  Log-Likelihood:    </th> <td> -687.24</td>\n",
       "</tr>\n",
       "<tr>\n",
       "  <th>No. Observations:</th>                <td>    51</td>                <th>  AIC:               </th> <td>   1378.</td>\n",
       "</tr>\n",
       "<tr>\n",
       "  <th>Df Residuals:</th>                    <td>    49</td>                <th>  BIC:               </th> <td>   1382.</td>\n",
       "</tr>\n",
       "<tr>\n",
       "  <th>Df Model:</th>                        <td>     1</td>                <th>                     </th>     <td> </td>   \n",
       "</tr>\n",
       "<tr>\n",
       "  <th>Covariance Type:</th>                <td>nonrobust</td>              <th>                     </th>     <td> </td>   \n",
       "</tr>\n",
       "</table>\n",
       "<table class=\"simpletable\">\n",
       "<tr>\n",
       "                          <td></td>                            <th>coef</th>     <th>std err</th>      <th>t</th>      <th>P>|t|</th>  <th>[0.025</th>    <th>0.975]</th>  \n",
       "</tr>\n",
       "<tr>\n",
       "  <th>const</th>                                            <td> 3.734e+05</td> <td> 1.19e+05</td> <td>    3.135</td> <td> 0.003</td> <td> 1.34e+05</td> <td> 6.13e+05</td>\n",
       "</tr>\n",
       "<tr>\n",
       "  <th>Poverty Rate (% below federal poverty threshold)</th> <td>  856.8705</td> <td> 7888.066</td> <td>    0.109</td> <td> 0.914</td> <td> -1.5e+04</td> <td> 1.67e+04</td>\n",
       "</tr>\n",
       "</table>\n",
       "<table class=\"simpletable\">\n",
       "<tr>\n",
       "  <th>Omnibus:</th>       <td>52.014</td> <th>  Durbin-Watson:     </th> <td>   1.756</td>\n",
       "</tr>\n",
       "<tr>\n",
       "  <th>Prob(Omnibus):</th> <td> 0.000</td> <th>  Jarque-Bera (JB):  </th> <td> 229.731</td>\n",
       "</tr>\n",
       "<tr>\n",
       "  <th>Skew:</th>          <td> 2.796</td> <th>  Prob(JB):          </th> <td>1.30e-50</td>\n",
       "</tr>\n",
       "<tr>\n",
       "  <th>Kurtosis:</th>      <td>11.766</td> <th>  Cond. No.          </th> <td>    73.4</td>\n",
       "</tr>\n",
       "</table><br/><br/>Warnings:<br/>[1] Standard Errors assume that the covariance matrix of the errors is correctly specified."
      ],
      "text/plain": [
       "<class 'statsmodels.iolib.summary.Summary'>\n",
       "\"\"\"\n",
       "                                     OLS Regression Results                                     \n",
       "================================================================================================\n",
       "Dep. Variable:     Energy Consumption (BTUs per capita)   R-squared:                       0.000\n",
       "Model:                                              OLS   Adj. R-squared:                 -0.020\n",
       "Method:                                   Least Squares   F-statistic:                   0.01180\n",
       "Date:                                  Wed, 23 Dec 2020   Prob (F-statistic):              0.914\n",
       "Time:                                          23:53:04   Log-Likelihood:                -687.24\n",
       "No. Observations:                                    51   AIC:                             1378.\n",
       "Df Residuals:                                        49   BIC:                             1382.\n",
       "Df Model:                                             1                                         \n",
       "Covariance Type:                              nonrobust                                         \n",
       "====================================================================================================================\n",
       "                                                       coef    std err          t      P>|t|      [0.025      0.975]\n",
       "--------------------------------------------------------------------------------------------------------------------\n",
       "const                                             3.734e+05   1.19e+05      3.135      0.003    1.34e+05    6.13e+05\n",
       "Poverty Rate (% below federal poverty threshold)   856.8705   7888.066      0.109      0.914    -1.5e+04    1.67e+04\n",
       "==============================================================================\n",
       "Omnibus:                       52.014   Durbin-Watson:                   1.756\n",
       "Prob(Omnibus):                  0.000   Jarque-Bera (JB):              229.731\n",
       "Skew:                           2.796   Prob(JB):                     1.30e-50\n",
       "Kurtosis:                      11.766   Cond. No.                         73.4\n",
       "==============================================================================\n",
       "\n",
       "Warnings:\n",
       "[1] Standard Errors assume that the covariance matrix of the errors is correctly specified.\n",
       "\"\"\""
      ]
     },
     "metadata": {},
     "output_type": "display_data"
    }
   ],
   "source": [
    "# Obtain summary statistics: \n",
    "from statsmodels.regression.linear_model import OLS\n",
    "import statsmodels.api as sm\n",
    "\n",
    "x_vals = newly_df['Poverty Rate (% below federal poverty threshold)']\n",
    "y_vals = newly_df['Energy Consumption (BTUs per capita)']\n",
    "\n",
    "reg_model = OLS(y_vals, sm.add_constant(x_vals)).fit()\n",
    "display(reg_model.summary())"
   ]
  },
  {
   "cell_type": "code",
   "execution_count": null,
   "metadata": {},
   "outputs": [],
   "source": []
  },
  {
   "cell_type": "code",
   "execution_count": 57,
   "metadata": {},
   "outputs": [
    {
     "name": "stdout",
     "output_type": "stream",
     "text": [
      "Correlation coefficient: 0.015516520338397824\n",
      "p-value: 0.9139406040593546\n"
     ]
    }
   ],
   "source": [
    "# Report correlation coefficient and p-value: \n",
    "from scipy import stats\n",
    "corr = stats.pearsonr(new_df['Poverty Rate (% below federal poverty threshold)'], new_df['Energy Consumption (BTUs per capita)'])\n",
    "print('Correlation coefficient:', corr[0])\n",
    "print('p-value:', corr[1])"
   ]
  },
  {
   "cell_type": "code",
   "execution_count": 58,
   "metadata": {},
   "outputs": [],
   "source": [
    "b0 = reg_model.params[0]\n",
    "b1 = reg_model.params[1]\n",
    "x_plot = np.linspace(np.min(newly_df['Poverty Rate (% below federal poverty threshold)']), np.max(newly_df['Poverty Rate (% below federal poverty threshold)']), 100)"
   ]
  },
  {
   "cell_type": "code",
   "execution_count": 59,
   "metadata": {
    "scrolled": true
   },
   "outputs": [
    {
     "data": {
      "image/png": "[encoded data removed]",
      "text/plain": [
       "<Figure size 864x576 with 1 Axes>"
      ]
     },
     "metadata": {},
     "output_type": "display_data"
    }
   ],
   "source": [
    "# Create a visualization: \n",
    "fig, axs = plt.subplots(figsize=(12,8))\n",
    "axs.scatter(df['Poverty Rate (% below federal poverty threshold)'], df['Energy Consumption (BTUs per capita)'], c='royalblue', edgecolors='none', s=30)\n",
    "plt.title(\"Poverty Rate vs Energy Consumption (BTUs per capita) by State\", fontsize=20)\n",
    "axs.set_xlabel(\"Poverty Rate (% below federal poverty threshold)\", fontsize=18)\n",
    "axs.set_ylabel(\"Energy Consumption (BTUs per capita)\", fontsize=18)\n",
    "axs.plot(x_plot, x_plot*b1 + b0, color='crimson')\n",
    "axs.tick_params(labelsize=15)\n",
    "plt.text(13, 1000000, \"Energy Consumption = Poverty Rate * 856.8705 + 3.734e+05\", fontsize=12, color='crimson')\n",
    "plt.show()"
   ]
  },
  {
   "cell_type": "code",
   "execution_count": 60,
   "metadata": {},
   "outputs": [],
   "source": [
    "# CONCLUSION: the states’ energy consumption (per capita) increased by 856.870 BTUs \n",
    "# per capita for every one percent increase in poverty rate (95% CI = -1.5e+04, 1.67e+04]). \n",
    "# The correlation coefficient between the two variables was 0.015 which is very low (p>.05). \n",
    "# This implies that, there is no correlation or relationship between state level poverty rate \n",
    "# and energy consumption. "
   ]
  },
  {
   "cell_type": "code",
   "execution_count": null,
   "metadata": {},
   "outputs": [],
   "source": [
    "\n",
    "\n",
    "\n"
   ]
  },
  {
   "cell_type": "code",
   "execution_count": 61,
   "metadata": {},
   "outputs": [],
   "source": [
    "# SIXTH VISUALIZATION (GROUPED HISTOGRAM): Lastly, I will create a grouped histogram to \n",
    "# visualize the relationship between urban states vs rural states and state per capita GDP. "
   ]
  },
  {
   "cell_type": "code",
   "execution_count": 62,
   "metadata": {},
   "outputs": [],
   "source": [
    "import pandas as pd\n",
    "import numpy as np\n",
    "import matplotlib.pyplot as plt"
   ]
  },
  {
   "cell_type": "code",
   "execution_count": 63,
   "metadata": {},
   "outputs": [
    {
     "data": {
      "text/html": [
       "<div>\n",
       "<style scoped>\n",
       "    .dataframe tbody tr th:only-of-type {\n",
       "        vertical-align: middle;\n",
       "    }\n",
       "\n",
       "    .dataframe tbody tr th {\n",
       "        vertical-align: top;\n",
       "    }\n",
       "\n",
       "    .dataframe thead th {\n",
       "        text-align: right;\n",
       "    }\n",
       "</style>\n",
       "<table border=\"1\" class=\"dataframe\">\n",
       "  <thead>\n",
       "    <tr style=\"text-align: right;\">\n",
       "      <th></th>\n",
       "      <th>State</th>\n",
       "      <th>State Per Capita GDP ($)</th>\n",
       "      <th>Urban Population (%)</th>\n",
       "    </tr>\n",
       "  </thead>\n",
       "  <tbody>\n",
       "    <tr>\n",
       "      <th>0</th>\n",
       "      <td>Alabama</td>\n",
       "      <td>32354.0</td>\n",
       "      <td>59.04</td>\n",
       "    </tr>\n",
       "    <tr>\n",
       "      <th>1</th>\n",
       "      <td>Alaska</td>\n",
       "      <td>61202.0</td>\n",
       "      <td>66.02</td>\n",
       "    </tr>\n",
       "    <tr>\n",
       "      <th>2</th>\n",
       "      <td>Arizona</td>\n",
       "      <td>34676.0</td>\n",
       "      <td>89.81</td>\n",
       "    </tr>\n",
       "    <tr>\n",
       "      <th>3</th>\n",
       "      <td>Arkansas</td>\n",
       "      <td>31547.0</td>\n",
       "      <td>56.16</td>\n",
       "    </tr>\n",
       "    <tr>\n",
       "      <th>4</th>\n",
       "      <td>California</td>\n",
       "      <td>44898.0</td>\n",
       "      <td>94.95</td>\n",
       "    </tr>\n",
       "    <tr>\n",
       "      <th>5</th>\n",
       "      <td>Colorado</td>\n",
       "      <td>45913.0</td>\n",
       "      <td>86.15</td>\n",
       "    </tr>\n",
       "    <tr>\n",
       "      <th>6</th>\n",
       "      <td>Connecticut</td>\n",
       "      <td>55143.0</td>\n",
       "      <td>87.99</td>\n",
       "    </tr>\n",
       "    <tr>\n",
       "      <th>7</th>\n",
       "      <td>Delaware</td>\n",
       "      <td>61737.0</td>\n",
       "      <td>83.30</td>\n",
       "    </tr>\n",
       "    <tr>\n",
       "      <th>8</th>\n",
       "      <td>District of Columbia</td>\n",
       "      <td>147965.0</td>\n",
       "      <td>100.00</td>\n",
       "    </tr>\n",
       "    <tr>\n",
       "      <th>9</th>\n",
       "      <td>Florida</td>\n",
       "      <td>34440.0</td>\n",
       "      <td>91.16</td>\n",
       "    </tr>\n",
       "    <tr>\n",
       "      <th>10</th>\n",
       "      <td>Georgia</td>\n",
       "      <td>37324.0</td>\n",
       "      <td>75.07</td>\n",
       "    </tr>\n",
       "    <tr>\n",
       "      <th>11</th>\n",
       "      <td>Hawaii</td>\n",
       "      <td>44296.0</td>\n",
       "      <td>91.93</td>\n",
       "    </tr>\n",
       "    <tr>\n",
       "      <th>12</th>\n",
       "      <td>Idaho</td>\n",
       "      <td>32025.0</td>\n",
       "      <td>70.58</td>\n",
       "    </tr>\n",
       "    <tr>\n",
       "      <th>13</th>\n",
       "      <td>Illinois</td>\n",
       "      <td>45306.0</td>\n",
       "      <td>88.49</td>\n",
       "    </tr>\n",
       "    <tr>\n",
       "      <th>14</th>\n",
       "      <td>Indiana</td>\n",
       "      <td>37935.0</td>\n",
       "      <td>72.44</td>\n",
       "    </tr>\n",
       "    <tr>\n",
       "      <th>15</th>\n",
       "      <td>Iowa</td>\n",
       "      <td>41404.0</td>\n",
       "      <td>64.02</td>\n",
       "    </tr>\n",
       "    <tr>\n",
       "      <th>16</th>\n",
       "      <td>Kansas</td>\n",
       "      <td>40716.0</td>\n",
       "      <td>74.20</td>\n",
       "    </tr>\n",
       "    <tr>\n",
       "      <th>17</th>\n",
       "      <td>Kentucky</td>\n",
       "      <td>33135.0</td>\n",
       "      <td>58.38</td>\n",
       "    </tr>\n",
       "    <tr>\n",
       "      <th>18</th>\n",
       "      <td>Louisiana</td>\n",
       "      <td>42764.0</td>\n",
       "      <td>73.19</td>\n",
       "    </tr>\n",
       "    <tr>\n",
       "      <th>19</th>\n",
       "      <td>Maine</td>\n",
       "      <td>34455.0</td>\n",
       "      <td>38.66</td>\n",
       "    </tr>\n",
       "    <tr>\n",
       "      <th>20</th>\n",
       "      <td>Maryland</td>\n",
       "      <td>46054.0</td>\n",
       "      <td>87.20</td>\n",
       "    </tr>\n",
       "    <tr>\n",
       "      <th>21</th>\n",
       "      <td>Massachusetts</td>\n",
       "      <td>52517.0</td>\n",
       "      <td>91.97</td>\n",
       "    </tr>\n",
       "    <tr>\n",
       "      <th>22</th>\n",
       "      <td>Michigan</td>\n",
       "      <td>34547.0</td>\n",
       "      <td>74.57</td>\n",
       "    </tr>\n",
       "    <tr>\n",
       "      <th>23</th>\n",
       "      <td>Minnesota</td>\n",
       "      <td>45708.0</td>\n",
       "      <td>73.27</td>\n",
       "    </tr>\n",
       "    <tr>\n",
       "      <th>24</th>\n",
       "      <td>Mississippi</td>\n",
       "      <td>28337.0</td>\n",
       "      <td>49.35</td>\n",
       "    </tr>\n",
       "    <tr>\n",
       "      <th>25</th>\n",
       "      <td>Missouri</td>\n",
       "      <td>36169.0</td>\n",
       "      <td>70.44</td>\n",
       "    </tr>\n",
       "    <tr>\n",
       "      <th>26</th>\n",
       "      <td>Montana</td>\n",
       "      <td>32742.0</td>\n",
       "      <td>55.89</td>\n",
       "    </tr>\n",
       "    <tr>\n",
       "      <th>27</th>\n",
       "      <td>Nebraska</td>\n",
       "      <td>44594.0</td>\n",
       "      <td>73.13</td>\n",
       "    </tr>\n",
       "    <tr>\n",
       "      <th>28</th>\n",
       "      <td>Nevada</td>\n",
       "      <td>40970.0</td>\n",
       "      <td>94.20</td>\n",
       "    </tr>\n",
       "    <tr>\n",
       "      <th>29</th>\n",
       "      <td>New Hampshire</td>\n",
       "      <td>42818.0</td>\n",
       "      <td>60.30</td>\n",
       "    </tr>\n",
       "    <tr>\n",
       "      <th>30</th>\n",
       "      <td>New Jersey</td>\n",
       "      <td>49020.0</td>\n",
       "      <td>94.68</td>\n",
       "    </tr>\n",
       "    <tr>\n",
       "      <th>31</th>\n",
       "      <td>New Mexico</td>\n",
       "      <td>33872.0</td>\n",
       "      <td>77.43</td>\n",
       "    </tr>\n",
       "    <tr>\n",
       "      <th>32</th>\n",
       "      <td>New York</td>\n",
       "      <td>52657.0</td>\n",
       "      <td>87.87</td>\n",
       "    </tr>\n",
       "    <tr>\n",
       "      <th>33</th>\n",
       "      <td>North Carolina</td>\n",
       "      <td>39627.0</td>\n",
       "      <td>66.09</td>\n",
       "    </tr>\n",
       "    <tr>\n",
       "      <th>34</th>\n",
       "      <td>North Dakota</td>\n",
       "      <td>49847.0</td>\n",
       "      <td>59.90</td>\n",
       "    </tr>\n",
       "    <tr>\n",
       "      <th>35</th>\n",
       "      <td>Ohio</td>\n",
       "      <td>36892.0</td>\n",
       "      <td>77.92</td>\n",
       "    </tr>\n",
       "    <tr>\n",
       "      <th>36</th>\n",
       "      <td>Oklahoma</td>\n",
       "      <td>35726.0</td>\n",
       "      <td>66.24</td>\n",
       "    </tr>\n",
       "    <tr>\n",
       "      <th>37</th>\n",
       "      <td>Oregon</td>\n",
       "      <td>46573.0</td>\n",
       "      <td>81.03</td>\n",
       "    </tr>\n",
       "    <tr>\n",
       "      <th>38</th>\n",
       "      <td>Pennsylvania</td>\n",
       "      <td>39455.0</td>\n",
       "      <td>78.66</td>\n",
       "    </tr>\n",
       "    <tr>\n",
       "      <th>39</th>\n",
       "      <td>Rhode Island</td>\n",
       "      <td>41061.0</td>\n",
       "      <td>90.73</td>\n",
       "    </tr>\n",
       "    <tr>\n",
       "      <th>40</th>\n",
       "      <td>South Carolina</td>\n",
       "      <td>31345.0</td>\n",
       "      <td>66.33</td>\n",
       "    </tr>\n",
       "    <tr>\n",
       "      <th>41</th>\n",
       "      <td>South Dakota</td>\n",
       "      <td>43561.0</td>\n",
       "      <td>56.65</td>\n",
       "    </tr>\n",
       "    <tr>\n",
       "      <th>42</th>\n",
       "      <td>Tennessee</td>\n",
       "      <td>36370.0</td>\n",
       "      <td>66.39</td>\n",
       "    </tr>\n",
       "    <tr>\n",
       "      <th>43</th>\n",
       "      <td>Texas</td>\n",
       "      <td>45025.0</td>\n",
       "      <td>84.70</td>\n",
       "    </tr>\n",
       "    <tr>\n",
       "      <th>44</th>\n",
       "      <td>Utah</td>\n",
       "      <td>38373.0</td>\n",
       "      <td>90.58</td>\n",
       "    </tr>\n",
       "    <tr>\n",
       "      <th>45</th>\n",
       "      <td>Vermont</td>\n",
       "      <td>37736.0</td>\n",
       "      <td>38.90</td>\n",
       "    </tr>\n",
       "    <tr>\n",
       "      <th>46</th>\n",
       "      <td>Virginia</td>\n",
       "      <td>47118.0</td>\n",
       "      <td>75.45</td>\n",
       "    </tr>\n",
       "    <tr>\n",
       "      <th>47</th>\n",
       "      <td>Washington</td>\n",
       "      <td>45942.0</td>\n",
       "      <td>84.05</td>\n",
       "    </tr>\n",
       "    <tr>\n",
       "      <th>48</th>\n",
       "      <td>West Virginia</td>\n",
       "      <td>29427.0</td>\n",
       "      <td>48.72</td>\n",
       "    </tr>\n",
       "    <tr>\n",
       "      <th>49</th>\n",
       "      <td>Wisconsin</td>\n",
       "      <td>38845.0</td>\n",
       "      <td>70.15</td>\n",
       "    </tr>\n",
       "    <tr>\n",
       "      <th>50</th>\n",
       "      <td>Wyoming</td>\n",
       "      <td>54969.0</td>\n",
       "      <td>64.76</td>\n",
       "    </tr>\n",
       "  </tbody>\n",
       "</table>\n",
       "</div>"
      ],
      "text/plain": [
       "                   State  State Per Capita GDP ($)  Urban Population (%)\n",
       "0                Alabama                   32354.0                 59.04\n",
       "1                 Alaska                   61202.0                 66.02\n",
       "2                Arizona                   34676.0                 89.81\n",
       "3               Arkansas                   31547.0                 56.16\n",
       "4             California                   44898.0                 94.95\n",
       "5               Colorado                   45913.0                 86.15\n",
       "6            Connecticut                   55143.0                 87.99\n",
       "7               Delaware                   61737.0                 83.30\n",
       "8   District of Columbia                  147965.0                100.00\n",
       "9                Florida                   34440.0                 91.16\n",
       "10               Georgia                   37324.0                 75.07\n",
       "11                Hawaii                   44296.0                 91.93\n",
       "12                 Idaho                   32025.0                 70.58\n",
       "13              Illinois                   45306.0                 88.49\n",
       "14               Indiana                   37935.0                 72.44\n",
       "15                  Iowa                   41404.0                 64.02\n",
       "16                Kansas                   40716.0                 74.20\n",
       "17              Kentucky                   33135.0                 58.38\n",
       "18             Louisiana                   42764.0                 73.19\n",
       "19                 Maine                   34455.0                 38.66\n",
       "20              Maryland                   46054.0                 87.20\n",
       "21         Massachusetts                   52517.0                 91.97\n",
       "22              Michigan                   34547.0                 74.57\n",
       "23             Minnesota                   45708.0                 73.27\n",
       "24           Mississippi                   28337.0                 49.35\n",
       "25              Missouri                   36169.0                 70.44\n",
       "26               Montana                   32742.0                 55.89\n",
       "27              Nebraska                   44594.0                 73.13\n",
       "28                Nevada                   40970.0                 94.20\n",
       "29         New Hampshire                   42818.0                 60.30\n",
       "30            New Jersey                   49020.0                 94.68\n",
       "31            New Mexico                   33872.0                 77.43\n",
       "32              New York                   52657.0                 87.87\n",
       "33        North Carolina                   39627.0                 66.09\n",
       "34          North Dakota                   49847.0                 59.90\n",
       "35                  Ohio                   36892.0                 77.92\n",
       "36              Oklahoma                   35726.0                 66.24\n",
       "37                Oregon                   46573.0                 81.03\n",
       "38          Pennsylvania                   39455.0                 78.66\n",
       "39          Rhode Island                   41061.0                 90.73\n",
       "40        South Carolina                   31345.0                 66.33\n",
       "41          South Dakota                   43561.0                 56.65\n",
       "42             Tennessee                   36370.0                 66.39\n",
       "43                 Texas                   45025.0                 84.70\n",
       "44                  Utah                   38373.0                 90.58\n",
       "45               Vermont                   37736.0                 38.90\n",
       "46              Virginia                   47118.0                 75.45\n",
       "47            Washington                   45942.0                 84.05\n",
       "48         West Virginia                   29427.0                 48.72\n",
       "49             Wisconsin                   38845.0                 70.15\n",
       "50               Wyoming                   54969.0                 64.76"
      ]
     },
     "execution_count": 63,
     "metadata": {},
     "output_type": "execute_result"
    }
   ],
   "source": [
    "df = pd.read_csv('/Users/caitlin/Desktop/Measure of America Dataset.csv')\n",
    "df = df[['State','State Per Capita GDP ($)','Urban Population (%)']]\n",
    "df = df.dropna()\n",
    "df"
   ]
  },
  {
   "cell_type": "code",
   "execution_count": 64,
   "metadata": {},
   "outputs": [
    {
     "data": {
      "text/plain": [
       "33"
      ]
     },
     "execution_count": 64,
     "metadata": {},
     "output_type": "execute_result"
    }
   ],
   "source": [
    "# Grouping states into urban vs rural categories: \n",
    "mean_urban = np.mean(df['Urban Population (%)'].dropna())\n",
    "mean_urban\n",
    "\n",
    "urban_df = df[df['Urban Population (%)'] >= 70]\n",
    "rural_df = df[df['Urban Population (%)'] < 70]\n",
    "# o\n",
    "len(urban_df)"
   ]
  },
  {
   "cell_type": "code",
   "execution_count": 65,
   "metadata": {},
   "outputs": [
    {
     "data": {
      "text/plain": [
       "28337.0"
      ]
     },
     "execution_count": 65,
     "metadata": {},
     "output_type": "execute_result"
    }
   ],
   "source": [
    "# Finding the min and max for each so that the scale on my visualization is easy to read:\n",
    "min(rural_df['State Per Capita GDP ($)'])"
   ]
  },
  {
   "cell_type": "code",
   "execution_count": 66,
   "metadata": {},
   "outputs": [
    {
     "data": {
      "text/plain": [
       "32025.0"
      ]
     },
     "execution_count": 66,
     "metadata": {},
     "output_type": "execute_result"
    }
   ],
   "source": [
    "min(urban_df['State Per Capita GDP ($)'])"
   ]
  },
  {
   "cell_type": "code",
   "execution_count": 67,
   "metadata": {},
   "outputs": [
    {
     "data": {
      "text/plain": [
       "61202.0"
      ]
     },
     "execution_count": 67,
     "metadata": {},
     "output_type": "execute_result"
    }
   ],
   "source": [
    "max(rural_df['State Per Capita GDP ($)'])"
   ]
  },
  {
   "cell_type": "code",
   "execution_count": 68,
   "metadata": {},
   "outputs": [
    {
     "data": {
      "text/plain": [
       "147965.0"
      ]
     },
     "execution_count": 68,
     "metadata": {},
     "output_type": "execute_result"
    }
   ],
   "source": [
    "max(urban_df['State Per Capita GDP ($)'])"
   ]
  },
  {
   "cell_type": "code",
   "execution_count": 69,
   "metadata": {},
   "outputs": [
    {
     "data": {
      "image/png": "[encoded data removed]",
      "text/plain": [
       "<Figure size 864x576 with 1 Axes>"
      ]
     },
     "metadata": {},
     "output_type": "display_data"
    }
   ],
   "source": [
    "# Create a grouped histogram: \n",
    "fig, axs = plt.subplots(figsize=(12,8))\n",
    "axs.hist(urban_df['State Per Capita GDP ($)'], color=\"c\", alpha=0.3, \n",
    "         bins=np.linspace(28000,150000,100), label=\"Urban\")\n",
    "axs.hist(rural_df['State Per Capita GDP ($)'], color=\"y\", alpha=0.3,\n",
    "         bins=np.linspace(28000,150000,100), label=\"Rural\")\n",
    "\n",
    "plt.title(\"Frequency of Urban and Rural States by GDP per Capita\", fontsize=20)\n",
    "axs.set_xlabel(\"State Per Capita GDP ($)\", fontsize=18)\n",
    "axs.set_ylabel(\"Number of States\", fontsize=18)\n",
    "axs.tick_params(labelsize=15)\n",
    "axs.legend(prop={'size': 15})\n",
    "\n",
    "plt.show()"
   ]
  },
  {
   "cell_type": "code",
   "execution_count": 70,
   "metadata": {},
   "outputs": [],
   "source": [
    "# CONCLUSION: Rural states seem to be slightly skewed towards the \n",
    "# low end of GDP because some of the rural states are lower than any of \n",
    "# the urban states whereas, high GDP states may be skewed towards higher \n",
    "# GDP as shown by the peak in urban states around 48000 and the one outlier \n",
    "# urban state (District of Columbia). "
   ]
  }
 ],
 "metadata": {
  "kernelspec": {
   "display_name": "Python 3",
   "language": "python",
   "name": "python3"
  },
  "language_info": {
   "codemirror_mode": {
    "name": "ipython",
    "version": 3
   },
   "file_extension": ".py",
   "mimetype": "text/x-python",
   "name": "python",
   "nbconvert_exporter": "python",
   "pygments_lexer": "ipython3",
   "version": "3.6.5"
  }
 },
 "nbformat": 4,
 "nbformat_minor": 2
}
